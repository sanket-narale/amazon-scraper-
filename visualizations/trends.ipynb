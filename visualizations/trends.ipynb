import pandas as pd
import matplotlib.pyplot as plt
import seaborn as sns

# Load data
df = pd.read_csv("../data/cleaned_data.csv")

# Price Distribution
sns.histplot(df["Price"].dropna(), kde=True)
plt.title("Price Distribution")
plt.xlabel("Price")
plt.savefig("visualizations/price_distribution.png")

# Price vs Rating
sns.scatterplot(x="Price", y="Rating", data=df)
plt.title("Price vs Rating")
plt.savefig("visualizations/price_vs_rating.png")

# Reviews vs Rating
sns.barplot(x="Rating", y="Reviews", data=df.sort_values("Reviews", ascending=False).head(10))
plt.title("Top 10 Most Reviewed Products")
plt.savefig("visualizations/top_reviews.png")
